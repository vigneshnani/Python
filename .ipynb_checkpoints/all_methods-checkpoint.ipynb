{
 "cells": [
  {
   "cell_type": "code",
   "execution_count": null,
   "id": "1ccfc855-45ea-426c-ad7e-ece8fee68dc9",
   "metadata": {},
   "outputs": [],
   "source": [
    "\n",
    "'append',\n",
    " 'clear',\n",
    " 'copy',\n",
    " 'count',\n",
    " 'extend',\n",
    " 'index',\n",
    " 'insert',\n",
    " 'pop',\n",
    " 'remove',\n",
    " 'reverse',\n",
    " 'sort']   \n",
    "# methods in list \n",
    "\n",
    "\n",
    "\n",
    "# methods in string\n",
    "\n",
    "'capitalize',\n",
    " 'casefold',\n",
    " 'center',\n",
    " 'count',\n",
    " 'encode',\n",
    " 'endswith',\n",
    " 'expandtabs',\n",
    " 'find',\n",
    " 'format',\n",
    " 'format_map',\n",
    " 'index',\n",
    " 'isalnum',\n",
    " 'isalpha',\n",
    " 'isascii',\n",
    " 'isdecimal',\n",
    " 'isdigit',\n",
    " 'isidentifier',\n",
    " 'islower',\n",
    " 'isnumeric',\n",
    " 'isprintable',\n",
    " 'isspace',\n",
    " 'istitle',\n",
    " 'isupper',\n",
    " 'join',\n",
    " 'ljust',\n",
    " 'lower',\n",
    " 'lstrip',\n",
    " 'maketrans',\n",
    " 'partition',\n",
    " 'removeprefix',\n",
    " 'removesuffix',\n",
    " 'replace',\n",
    " 'rfind',\n",
    " 'rindex',\n",
    " 'rjust',\n",
    " 'rpartition',\n",
    " 'rsplit',\n",
    " 'rstrip',\n",
    " 'split',\n",
    " 'splitlines',\n",
    " 'startswith',\n",
    " 'strip',\n",
    " 'swapcase',\n",
    " 'title',\n",
    " 'translate',\n",
    " 'upper',\n",
    " 'zfill']\n",
    "\n",
    "# methods in dict \n",
    "\n",
    " 'clear',\n",
    " 'copy',\n",
    " 'fromkeys',\n",
    " 'get',\n",
    " 'items',\n",
    " 'keys',\n",
    " 'pop',\n",
    " 'popitem',\n",
    " 'setdefault',\n",
    " 'update',\n",
    " 'values']\n",
    "\n",
    "# methods in set \n",
    "\n",
    "'add',\n",
    " 'clear',\n",
    " 'copy',\n",
    " 'difference',\n",
    " 'difference_update',\n",
    " 'discard',\n",
    " 'intersection',\n",
    " 'intersection_update',\n",
    " 'isdisjoint',\n",
    " 'issubset',\n",
    " 'issuperset',\n",
    " 'pop',\n",
    " 'remove',\n",
    " 'symmetric_difference',\n",
    " 'symmetric_difference_update',\n",
    " 'union',\n",
    " 'update']\n",
    "\n",
    "# methods in tuple\n",
    "\n",
    "'count',\n",
    " 'index']\n"
   ]
  },
  {
   "cell_type": "code",
   "execution_count": 29,
   "id": "0146d250-090a-4272-809e-66135e9ff408",
   "metadata": {},
   "outputs": [
    {
     "name": "stdout",
     "output_type": "stream",
     "text": [
      "1\n",
      "[10, 20, 'hi', 'bye', True]\n",
      "None\n",
      "2\n",
      "None\n",
      "20\n",
      "None\n",
      "None\n",
      "None\n",
      "None\n"
     ]
    }
   ],
   "source": [
    "# list \n",
    "list=[10,20,'hi','bye']\n",
    "list1=True\n",
    "list.append(list1)\n",
    "print(list.count())\n",
    "print(list.copy())\n",
    "print(list.extend('hi'))\n",
    "print(list.index('hi'))\n",
    "print(list.insert(4,'hello'))\n",
    "print(list.pop(1))\n",
    "print(list.remove('hello'))\n",
    "print(list.reverse())\n",
    "print(list.clear())\n",
    "print(list.sort())"
   ]
  },
  {
   "cell_type": "code",
   "execution_count": 49,
   "id": "718d5f27-57ea-4dd3-ad4b-982a8b0b192e",
   "metadata": {},
   "outputs": [
    {
     "data": {
      "text/plain": [
       "1"
      ]
     },
     "execution_count": 49,
     "metadata": {},
     "output_type": "execute_result"
    }
   ],
   "source": [
    "list=[10,20,'hi','bye']\n",
    "list.count(10)"
   ]
  },
  {
   "cell_type": "code",
   "execution_count": 51,
   "id": "0d2c4df5-e658-48f6-8404-66cd8e1af378",
   "metadata": {},
   "outputs": [
    {
     "name": "stdout",
     "output_type": "stream",
     "text": [
      "[10, 20, 'hi', 'bye']\n"
     ]
    }
   ],
   "source": [
    "print(list.copy())"
   ]
  },
  {
   "cell_type": "code",
   "execution_count": 54,
   "id": "67e52f42-6aec-4431-acab-b8a9355e7d4f",
   "metadata": {},
   "outputs": [
    {
     "data": {
      "text/plain": [
       "[10, 20, 'hi', 'bye', 11, 11, 11]"
      ]
     },
     "execution_count": 54,
     "metadata": {},
     "output_type": "execute_result"
    }
   ],
   "source": [
    "list2=[11]\n",
    "list.extend(list2)\n",
    "list # extendes number of times we complie"
   ]
  },
  {
   "cell_type": "code",
   "execution_count": 55,
   "id": "898c81f2-4446-4046-ab8b-068eaabe4742",
   "metadata": {},
   "outputs": [
    {
     "name": "stdout",
     "output_type": "stream",
     "text": [
      "2\n"
     ]
    }
   ],
   "source": [
    "print(list.index('hi'))"
   ]
  },
  {
   "cell_type": "code",
   "execution_count": 74,
   "id": "8bfa9362-3a70-4863-bbcb-336405ba336f",
   "metadata": {},
   "outputs": [
    {
     "data": {
      "text/plain": [
       "[10, 20, 'hii', 'hi', 'bye']"
      ]
     },
     "execution_count": 74,
     "metadata": {},
     "output_type": "execute_result"
    }
   ],
   "source": [
    "list=[10,20,'hi','bye']\n",
    "list.insert(2,'hii')\n",
    "list"
   ]
  },
  {
   "cell_type": "code",
   "execution_count": 75,
   "id": "66052608-4427-4f75-be87-3f6ae9cdb9cd",
   "metadata": {},
   "outputs": [
    {
     "name": "stdout",
     "output_type": "stream",
     "text": [
      "20\n"
     ]
    }
   ],
   "source": [
    "print(list.pop(1))"
   ]
  },
  {
   "cell_type": "code",
   "execution_count": 87,
   "id": "a437c222-2182-4d92-9834-ec3329054189",
   "metadata": {},
   "outputs": [
    {
     "data": {
      "text/plain": [
       "[10, 20, 'bye']"
      ]
     },
     "execution_count": 87,
     "metadata": {},
     "output_type": "execute_result"
    }
   ],
   "source": [
    "list=[10,20,'hi','bye']\n",
    "list.remove('hi')\n",
    "list"
   ]
  },
  {
   "cell_type": "code",
   "execution_count": 90,
   "id": "0b5b4d1a-18f7-4d4e-84a0-b9d0a317630a",
   "metadata": {},
   "outputs": [
    {
     "data": {
      "text/plain": [
       "['bye', 20, 10]"
      ]
     },
     "execution_count": 90,
     "metadata": {},
     "output_type": "execute_result"
    }
   ],
   "source": [
    "\n",
    "list.reverse()\n",
    "list"
   ]
  },
  {
   "cell_type": "code",
   "execution_count": 92,
   "id": "0283b575-3dbc-40f7-91c0-62aaf26be280",
   "metadata": {},
   "outputs": [
    {
     "data": {
      "text/plain": [
       "[]"
      ]
     },
     "execution_count": 92,
     "metadata": {},
     "output_type": "execute_result"
    }
   ],
   "source": [
    "list.clear()\n",
    "list"
   ]
  },
  {
   "cell_type": "code",
   "execution_count": 97,
   "id": "ed7dccbc-dd03-43cb-b989-2ce565812dcd",
   "metadata": {},
   "outputs": [
    {
     "data": {
      "text/plain": [
       "[30, 40, 50, 60]"
      ]
     },
     "execution_count": 97,
     "metadata": {},
     "output_type": "execute_result"
    }
   ],
   "source": [
    "list=[60,50,30,40]\n",
    "list.sort()\n",
    "list"
   ]
  },
  {
   "cell_type": "code",
   "execution_count": null,
   "id": "5242ea46-5245-4927-9694-6f26299592ae",
   "metadata": {},
   "outputs": [],
   "source": [
    "# dict"
   ]
  },
  {
   "cell_type": "code",
   "execution_count": 98,
   "id": "206de017-7c2c-4bea-a72c-c68125085084",
   "metadata": {},
   "outputs": [
    {
     "data": {
      "text/plain": [
       "{}"
      ]
     },
     "execution_count": 98,
     "metadata": {},
     "output_type": "execute_result"
    }
   ],
   "source": [
    "name_age1 = {'ramesh':25,\n",
    "        'vignesh':20,\n",
    "    'suresh':22}\n",
    "name_age1.clear()\n",
    "name_age1"
   ]
  },
  {
   "cell_type": "code",
   "execution_count": 99,
   "id": "0392dcd8-042d-4b0f-a6fb-a56dc5869874",
   "metadata": {},
   "outputs": [
    {
     "name": "stdout",
     "output_type": "stream",
     "text": [
      "dict_values([25, 20, 22])\n",
      "dict_keys(['ramesh', 'vignesh', 'suresh'])\n"
     ]
    }
   ],
   "source": [
    "name_age1 = {'ramesh':25,\n",
    "        'vignesh':20,\n",
    "    'suresh':22}\n",
    "print(name_age1.values())\n",
    "print(name_age1.keys())"
   ]
  },
  {
   "cell_type": "code",
   "execution_count": 100,
   "id": "e0baedb4-8429-4335-aa18-c0502cd84dac",
   "metadata": {},
   "outputs": [
    {
     "data": {
      "text/plain": [
       "20"
      ]
     },
     "execution_count": 100,
     "metadata": {},
     "output_type": "execute_result"
    }
   ],
   "source": [
    "name_age1 = {'ramesh':25,'vignesh':20,'suresh':22}\n",
    "name_age1.get('vignesh')"
   ]
  },
  {
   "cell_type": "code",
   "execution_count": 101,
   "id": "cba1d597-75e8-43d1-b920-7eae228da1ff",
   "metadata": {},
   "outputs": [
    {
     "data": {
      "text/plain": [
       "{'ramesh': 2, 'vignesh': 2, 'suresh': 2}"
      ]
     },
     "execution_count": 101,
     "metadata": {},
     "output_type": "execute_result"
    }
   ],
   "source": [
    "name = {'ramesh':25,'vignesh':20,'suresh':22}\n",
    "name.fromkeys(name,2)"
   ]
  },
  {
   "cell_type": "code",
   "execution_count": 102,
   "id": "9416dd68-970c-4d16-ad50-d788b07a4238",
   "metadata": {},
   "outputs": [
    {
     "data": {
      "text/plain": [
       "{'ramesh': 25, 'vignesh': 20, 'suresh': 22, 'susu': '12'}"
      ]
     },
     "execution_count": 102,
     "metadata": {},
     "output_type": "execute_result"
    }
   ],
   "source": [
    "name_age1 = {'ramesh':25,'vignesh':20,'suresh':22}\n",
    "name_age1.update({'susu':'12'})\n",
    "name_age1"
   ]
  },
  {
   "cell_type": "code",
   "execution_count": 103,
   "id": "cc90dae2-e65e-44de-8ff8-f9596abdb6e7",
   "metadata": {},
   "outputs": [
    {
     "data": {
      "text/plain": [
       "{'ramesh': 25, 'vignesh': 20, 'suresh': 22}"
      ]
     },
     "execution_count": 103,
     "metadata": {},
     "output_type": "execute_result"
    }
   ],
   "source": [
    "name_age1 = {'ramesh':25,'vignesh':20,'suresh':22}\n",
    "name=name_age1.copy()\n",
    "name"
   ]
  },
  {
   "cell_type": "code",
   "execution_count": 104,
   "id": "b336b53e-6c48-44d9-b6d7-169ebd453e20",
   "metadata": {},
   "outputs": [
    {
     "data": {
      "text/plain": [
       "25"
      ]
     },
     "execution_count": 104,
     "metadata": {},
     "output_type": "execute_result"
    }
   ],
   "source": [
    "name = {'ramesh':25,'vignesh':20,'suresh':22}\n",
    "name.pop('ramesh')"
   ]
  },
  {
   "cell_type": "code",
   "execution_count": 116,
   "id": "a2734032-fa8a-4a59-97fe-5360682959b1",
   "metadata": {},
   "outputs": [
    {
     "data": {
      "text/plain": [
       "{'ramesh': 25, 'vignesh': 20, 'suresh': 22, 'susha': 2}"
      ]
     },
     "execution_count": 116,
     "metadata": {},
     "output_type": "execute_result"
    }
   ],
   "source": [
    "name = {'ramesh':25,'vignesh':20,'suresh':22}\n",
    "name.setdefault('susha',2)\n",
    "name"
   ]
  },
  {
   "cell_type": "code",
   "execution_count": 122,
   "id": "c01e25c1-0b71-498a-a579-0233474ebbc4",
   "metadata": {},
   "outputs": [
    {
     "data": {
      "text/plain": [
       "dict_items([('ramesh', 25), ('vignesh', 20), ('suresh', 22)])"
      ]
     },
     "execution_count": 122,
     "metadata": {},
     "output_type": "execute_result"
    }
   ],
   "source": [
    "name_age1 = {'ramesh':25,\n",
    "        'vignesh':20,\n",
    "    'suresh':22}\n",
    "name_age1.items()"
   ]
  },
  {
   "cell_type": "code",
   "execution_count": 125,
   "id": "59199f63-32a0-4022-8a80-40c879967282",
   "metadata": {},
   "outputs": [
    {
     "data": {
      "text/plain": [
       "('suresh', 22)"
      ]
     },
     "execution_count": 125,
     "metadata": {},
     "output_type": "execute_result"
    }
   ],
   "source": [
    "name_age1 = {'ramesh':25,\n",
    "        'vignesh':20,\n",
    "    'suresh':22}\n",
    "name_age1.popitem()"
   ]
  },
  {
   "cell_type": "code",
   "execution_count": null,
   "id": "f11016b0-a4b4-4c2a-a348-8b10c7eb080c",
   "metadata": {},
   "outputs": [],
   "source": [
    "# tuple"
   ]
  },
  {
   "cell_type": "code",
   "execution_count": 128,
   "id": "573eaaf6-2b9e-475d-849b-48ab1a4b7910",
   "metadata": {},
   "outputs": [
    {
     "data": {
      "text/plain": [
       "2"
      ]
     },
     "execution_count": 128,
     "metadata": {},
     "output_type": "execute_result"
    }
   ],
   "source": [
    "tup=(10,10,20,'30','a',True)\n",
    "tup.count(10)"
   ]
  },
  {
   "cell_type": "code",
   "execution_count": 131,
   "id": "7985088e-05dc-4312-94b3-3a05937e6d54",
   "metadata": {},
   "outputs": [
    {
     "data": {
      "text/plain": [
       "1"
      ]
     },
     "execution_count": 131,
     "metadata": {},
     "output_type": "execute_result"
    }
   ],
   "source": [
    "tup=(100,10,20,'30','a',True)\n",
    "tup.index(10)"
   ]
  },
  {
   "cell_type": "code",
   "execution_count": null,
   "id": "1f182b33-2d9f-424f-800a-01314fb91aac",
   "metadata": {},
   "outputs": [],
   "source": [
    "# methods in set \n",
    "\n",
    "'add',\n",
    " 'clear',\n",
    " 'copy',\n",
    " 'difference',\n",
    " 'difference_update',\n",
    " 'discard',\n",
    " 'intersection',\n",
    " 'intersection_update',\n",
    " 'isdisjoint',\n",
    " 'issubset',\n",
    " 'issuperset',\n",
    " 'pop',\n",
    " 'remove',\n",
    " 'symmetric_difference',\n",
    " 'symmetric_difference_update',\n",
    " 'union',\n",
    " 'update']"
   ]
  },
  {
   "cell_type": "code",
   "execution_count": 133,
   "id": "bd7521e6-3b0c-4b86-ad07-e7554b5de5c7",
   "metadata": {},
   "outputs": [
    {
     "data": {
      "text/plain": [
       "{10, 20, 30, 40, 50, 'bye', 'hi'}"
      ]
     },
     "execution_count": 133,
     "metadata": {},
     "output_type": "execute_result"
    }
   ],
   "source": [
    "seet={10,20,30,40,'hi','bye'}\n",
    "seet.add(50)\n",
    "seet"
   ]
  },
  {
   "cell_type": "code",
   "execution_count": 135,
   "id": "97be4031-6e58-49ce-82f9-787695d5a534",
   "metadata": {},
   "outputs": [
    {
     "data": {
      "text/plain": [
       "set()"
      ]
     },
     "execution_count": 135,
     "metadata": {},
     "output_type": "execute_result"
    }
   ],
   "source": [
    "seet={10,20,30,40,'hi','bye'}\n",
    "seet.clear()\n",
    "seet"
   ]
  },
  {
   "cell_type": "code",
   "execution_count": 136,
   "id": "b8a4498e-354d-48e6-82b6-64861ad60561",
   "metadata": {},
   "outputs": [
    {
     "data": {
      "text/plain": [
       "{10, 20, 30, 40, 'bye', 'hi'}"
      ]
     },
     "execution_count": 136,
     "metadata": {},
     "output_type": "execute_result"
    }
   ],
   "source": [
    "seet={10,20,30,40,'hi','bye'}\n",
    "seet.copy()\n",
    "seet"
   ]
  },
  {
   "cell_type": "code",
   "execution_count": 148,
   "id": "5993c4b8-b761-42b5-b0d1-9903b2e2ab83",
   "metadata": {},
   "outputs": [
    {
     "data": {
      "text/plain": [
       "{10, 20, 40, 'bye', 'hi'}"
      ]
     },
     "execution_count": 148,
     "metadata": {},
     "output_type": "execute_result"
    }
   ],
   "source": [
    "seet={50,20,10,40,50,'hi','bye'}\n",
    "seet1={50}\n",
    "seet.difference_update(seet1)\n",
    "seet"
   ]
  },
  {
   "cell_type": "code",
   "execution_count": 2,
   "id": "50434fc4-73bf-49aa-a0be-4c472e8a864a",
   "metadata": {},
   "outputs": [
    {
     "name": "stdout",
     "output_type": "stream",
     "text": [
      "{1, 3}\n"
     ]
    }
   ],
   "source": [
    "s = {1, 2, 3}\n",
    "s.discard(2)\n",
    "print(s)  # Output: {1, 3}\n",
    "s.discard(10)  # No error if 10 is not present\n"
   ]
  },
  {
   "cell_type": "code",
   "execution_count": 3,
   "id": "885170ee-5eea-4d19-b2bf-a82ee4fe5eef",
   "metadata": {},
   "outputs": [
    {
     "name": "stdout",
     "output_type": "stream",
     "text": [
      "{1, 3}\n"
     ]
    }
   ],
   "source": [
    "s = {1, 2, 3}\n",
    "s.remove(2)\n",
    "print(s)  # Output: {1, 3}\n",
    "# s.remove(10)  # Raises KeyError if 10 is not present\n"
   ]
  },
  {
   "cell_type": "code",
   "execution_count": 5,
   "id": "c78ad71d-8638-47cb-b52e-6e9c29d88ffe",
   "metadata": {},
   "outputs": [
    {
     "name": "stdout",
     "output_type": "stream",
     "text": [
      "1\n",
      "{2, 3}\n"
     ]
    }
   ],
   "source": [
    "s = {1, 2, 3}\n",
    "element = s.pop()\n",
    "print(element)  # Output: 1 (or another arbitrary element)\n",
    "print(s)  # Output: {2, 3} (or remaining elements)"
   ]
  },
  {
   "cell_type": "code",
   "execution_count": 6,
   "id": "51e9418f-01e5-4015-85ae-28ac458da401",
   "metadata": {},
   "outputs": [
    {
     "name": "stdout",
     "output_type": "stream",
     "text": [
      "{1, 2, 3, 4, 5, 6}\n"
     ]
    }
   ],
   "source": [
    "s = {1, 2}\n",
    "s.update([3, 4], {5, 6})\n",
    "print(s)  # Output: {1, 2, 3, 4, 5, 6}\n"
   ]
  },
  {
   "cell_type": "code",
   "execution_count": 17,
   "id": "4a99f81d-2382-44fc-8b5c-633df80fae1d",
   "metadata": {},
   "outputs": [
    {
     "name": "stdout",
     "output_type": "stream",
     "text": [
      "{1, 2, 3}\n"
     ]
    }
   ],
   "source": [
    "s1 = {1, 2}\n",
    "s2 = {2, 3}\n",
    "s3 = s1.union(s2)\n",
    "print(s3)  # Output: {1, 2, 3}"
   ]
  },
  {
   "cell_type": "code",
   "execution_count": 16,
   "id": "ed9cce31-f8e0-4c66-9f69-55ab208d6c4c",
   "metadata": {},
   "outputs": [
    {
     "name": "stdout",
     "output_type": "stream",
     "text": [
      "{2, 3}\n"
     ]
    }
   ],
   "source": [
    "s1 = {1, 2, 3}\n",
    "s2 = {2, 3, 4}\n",
    "s3 = s1.intersection(s2)\n",
    "print(s3)  # Output: {2, 3}"
   ]
  },
  {
   "cell_type": "code",
   "execution_count": 15,
   "id": "145df384-f30d-4628-a916-8af92486bf90",
   "metadata": {},
   "outputs": [
    {
     "name": "stdout",
     "output_type": "stream",
     "text": [
      "{1}\n"
     ]
    }
   ],
   "source": [
    "s1 = {1, 2, 3}\n",
    "s2 = {2, 3, 4}\n",
    "s3 = s1.difference(s2)\n",
    "print(s3)  # Output: {1}"
   ]
  },
  {
   "cell_type": "code",
   "execution_count": 14,
   "id": "327151a5-6f5e-477f-886f-305928281e79",
   "metadata": {},
   "outputs": [
    {
     "name": "stdout",
     "output_type": "stream",
     "text": [
      "{1, 4}\n"
     ]
    }
   ],
   "source": [
    "s1 = {1, 2, 3}\n",
    "s2 = {2, 3, 4}\n",
    "s3 = s1.symmetric_difference(s2)\n",
    "print(s3)  # Output: {1, 4}"
   ]
  },
  {
   "cell_type": "code",
   "execution_count": 11,
   "id": "6d859a97-ddc4-409e-b4ef-c5991103a998",
   "metadata": {},
   "outputs": [
    {
     "name": "stdout",
     "output_type": "stream",
     "text": [
      "True\n"
     ]
    }
   ],
   "source": [
    "s1 = {1, 2}\n",
    "s2 = {1, 2, 3}\n",
    "print(s1.issubset(s2))  # Output: True\n"
   ]
  },
  {
   "cell_type": "code",
   "execution_count": 12,
   "id": "29202afe-2974-4d7b-a71e-4d0fdb0a1fef",
   "metadata": {},
   "outputs": [
    {
     "name": "stdout",
     "output_type": "stream",
     "text": [
      "True\n"
     ]
    }
   ],
   "source": [
    "s1 = {1, 2, 3}\n",
    "s2 = {2, 3}\n",
    "print(s1.issuperset(s2))  # Output: True\n"
   ]
  },
  {
   "cell_type": "code",
   "execution_count": 13,
   "id": "27302f7d-6336-467d-9c3f-6963ed4030da",
   "metadata": {},
   "outputs": [
    {
     "name": "stdout",
     "output_type": "stream",
     "text": [
      "True\n"
     ]
    }
   ],
   "source": [
    "s1 = {1, 2}\n",
    "s2 = {3, 4}\n",
    "print(s1.isdisjoint(s2))  # Output: True\n"
   ]
  },
  {
   "cell_type": "code",
   "execution_count": 19,
   "id": "c787d489-e9b7-4bfc-a369-d5601c4b4408",
   "metadata": {},
   "outputs": [
    {
     "data": {
      "text/plain": [
       "{10, 20, 30, 40, 50, 60, 70}"
      ]
     },
     "execution_count": 19,
     "metadata": {},
     "output_type": "execute_result"
    }
   ],
   "source": [
    "s1={10,20,30,40,50,60,70,10}\n",
    "s1.discard('50')\n",
    "s1"
   ]
  },
  {
   "cell_type": "code",
   "execution_count": 20,
   "id": "ce286a46-093b-4b25-9005-c86d2c5512dd",
   "metadata": {},
   "outputs": [
    {
     "ename": "TypeError",
     "evalue": "unsupported operand type(s) for +: 'set' and 'set'",
     "output_type": "error",
     "traceback": [
      "\u001b[1;31m---------------------------------------------------------------------------\u001b[0m",
      "\u001b[1;31mTypeError\u001b[0m                                 Traceback (most recent call last)",
      "Cell \u001b[1;32mIn[20], line 3\u001b[0m\n\u001b[0;32m      1\u001b[0m set1 \u001b[38;5;241m=\u001b[39m {\u001b[38;5;241m1\u001b[39m, \u001b[38;5;241m2\u001b[39m, \u001b[38;5;241m3\u001b[39m}\n\u001b[0;32m      2\u001b[0m set2 \u001b[38;5;241m=\u001b[39m {\u001b[38;5;241m4\u001b[39m, \u001b[38;5;241m5\u001b[39m, \u001b[38;5;241m6\u001b[39m}\n\u001b[1;32m----> 3\u001b[0m \u001b[38;5;28mprint\u001b[39m(\u001b[38;5;28mlen\u001b[39m(set1 \u001b[38;5;241m+\u001b[39m set2))\n",
      "\u001b[1;31mTypeError\u001b[0m: unsupported operand type(s) for +: 'set' and 'set'"
     ]
    }
   ],
   "source": [
    "set1 = {1, 2, 3}\n",
    "set2 = {4, 5, 6}\n",
    "print(len(set1 + set2))"
   ]
  },
  {
   "cell_type": "code",
   "execution_count": 24,
   "id": "600ddbd5-f8ff-4359-8ed6-3a0ea0f33db7",
   "metadata": {},
   "outputs": [
    {
     "ename": "KeyError",
     "evalue": "'10'",
     "output_type": "error",
     "traceback": [
      "\u001b[1;31m---------------------------------------------------------------------------\u001b[0m",
      "\u001b[1;31mKeyError\u001b[0m                                  Traceback (most recent call last)",
      "Cell \u001b[1;32mIn[24], line 2\u001b[0m\n\u001b[0;32m      1\u001b[0m s1\u001b[38;5;241m=\u001b[39m{\u001b[38;5;241m10\u001b[39m,\u001b[38;5;241m20\u001b[39m,\u001b[38;5;241m10\u001b[39m,\u001b[38;5;241m30\u001b[39m,\u001b[38;5;241m40\u001b[39m,\u001b[38;5;241m30\u001b[39m}\n\u001b[1;32m----> 2\u001b[0m s1\u001b[38;5;241m.\u001b[39mremove(\u001b[38;5;124m'\u001b[39m\u001b[38;5;124m10\u001b[39m\u001b[38;5;124m'\u001b[39m)\n\u001b[0;32m      3\u001b[0m s1\n",
      "\u001b[1;31mKeyError\u001b[0m: '10'"
     ]
    }
   ],
   "source": [
    "s1={10,20,10,30,40,30}\n",
    "s1.remove('10')\n",
    "s1"
   ]
  },
  {
   "cell_type": "code",
   "execution_count": 26,
   "id": "d936838b-79d3-4441-9333-3539b68b129c",
   "metadata": {},
   "outputs": [
    {
     "ename": "TypeError",
     "evalue": "unsupported operand type(s) for +: 'set' and 'set'",
     "output_type": "error",
     "traceback": [
      "\u001b[1;31m---------------------------------------------------------------------------\u001b[0m",
      "\u001b[1;31mTypeError\u001b[0m                                 Traceback (most recent call last)",
      "Cell \u001b[1;32mIn[26], line 3\u001b[0m\n\u001b[0;32m      1\u001b[0m set1 \u001b[38;5;241m=\u001b[39m {\u001b[38;5;241m1\u001b[39m, \u001b[38;5;241m2\u001b[39m, \u001b[38;5;241m3\u001b[39m}\n\u001b[0;32m      2\u001b[0m set2 \u001b[38;5;241m=\u001b[39m {\u001b[38;5;241m4\u001b[39m, \u001b[38;5;241m5\u001b[39m, \u001b[38;5;241m6\u001b[39m}\n\u001b[1;32m----> 3\u001b[0m \u001b[38;5;28mprint\u001b[39m(\u001b[38;5;28mlen\u001b[39m(set1 \u001b[38;5;241m+\u001b[39m set2))\n",
      "\u001b[1;31mTypeError\u001b[0m: unsupported operand type(s) for +: 'set' and 'set'"
     ]
    }
   ],
   "source": [
    "set1 = {1, 2, 3}\n",
    "set2 = {4, 5, 6}\n",
    "print(len(set1 + set2))"
   ]
  },
  {
   "cell_type": "code",
   "execution_count": 30,
   "id": "795abc8e-f6dd-4738-850c-ab49603a7182",
   "metadata": {},
   "outputs": [
    {
     "name": "stdout",
     "output_type": "stream",
     "text": [
      "{3, 4, 5}\n"
     ]
    }
   ],
   "source": [
    "a={2,3,4,5}\n",
    "a.pop()\n",
    "print(a)"
   ]
  },
  {
   "cell_type": "markdown",
   "id": "ae1549ab-77fa-47bf-81cc-3b763c77ab44",
   "metadata": {},
   "source": [
    "**string**"
   ]
  },
  {
   "cell_type": "code",
   "execution_count": null,
   "id": "84457c76-fccf-4e65-af40-850d1b94e307",
   "metadata": {},
   "outputs": [],
   "source": [
    "'capitalize',\n",
    " 'casefold',\n",
    " 'center',\n",
    " 'count',\n",
    " 'encode',\n",
    " 'endswith',\n",
    " 'expandtabs',\n",
    " 'find',\n",
    " 'format',\n",
    " 'format_map',\n",
    " 'index',\n",
    " 'isalnum',\n",
    " 'isalpha',\n",
    " 'isascii',\n",
    " 'isdecimal',\n",
    " 'isdigit',\n",
    " 'isidentifier',\n",
    " 'islower',\n",
    " 'isnumeric',\n",
    " 'isprintable',\n",
    " 'isspace',\n",
    " 'istitle',\n",
    " 'isupper',\n",
    " 'join',\n",
    " 'ljust',\n",
    " 'lower',\n",
    " 'lstrip',\n",
    " 'maketrans',\n",
    " 'partition',\n",
    " 'removeprefix',\n",
    " 'removesuffix',\n",
    " 'replace',\n",
    " 'rfind',\n",
    " 'rindex',\n",
    " 'rjust',\n",
    " 'rpartition',\n",
    " 'rsplit',\n",
    " 'rstrip',\n",
    " 'split',\n",
    " 'splitlines',\n",
    " 'startswith',\n",
    " 'strip',\n",
    " 'swapcase',\n",
    " 'title',\n",
    " 'translate',\n",
    " 'upper',\n",
    " 'zfill']"
   ]
  },
  {
   "cell_type": "code",
   "execution_count": 1,
   "id": "f94cbb8a-5ee9-4840-a1f4-a53ba80a4202",
   "metadata": {},
   "outputs": [
    {
     "data": {
      "text/plain": [
       "'Vignesh goud'"
      ]
     },
     "execution_count": 1,
     "metadata": {},
     "output_type": "execute_result"
    }
   ],
   "source": [
    "str='vignesh goud'\n",
    "str.capitalize()"
   ]
  },
  {
   "cell_type": "code",
   "execution_count": 10,
   "id": "903b44ae-43b5-4d5f-91b1-d48222ee1a8c",
   "metadata": {},
   "outputs": [
    {
     "data": {
      "text/plain": [
       "'VIGNE$H GOUD'"
      ]
     },
     "execution_count": 10,
     "metadata": {},
     "output_type": "execute_result"
    }
   ],
   "source": [
    "str='vigne$h goud'\n",
    "str.upper()"
   ]
  },
  {
   "cell_type": "code",
   "execution_count": 11,
   "id": "82448f86-07c2-430e-857a-875cbaa2a8fa",
   "metadata": {},
   "outputs": [
    {
     "data": {
      "text/plain": [
       "'vigne$h goud'"
      ]
     },
     "execution_count": 11,
     "metadata": {},
     "output_type": "execute_result"
    }
   ],
   "source": [
    "str='vigne$h GOUD'\n",
    "str.lower()"
   ]
  },
  {
   "cell_type": "code",
   "execution_count": 12,
   "id": "ae9b8123-845c-45f8-a39b-b35a5fa5a60f",
   "metadata": {},
   "outputs": [
    {
     "data": {
      "text/plain": [
       "'vigne$h goud'"
      ]
     },
     "execution_count": 12,
     "metadata": {},
     "output_type": "execute_result"
    }
   ],
   "source": [
    "str='vigne$h goud'\n",
    "str.casefold() # converts other launguage intlo system and compare same as lower/upper"
   ]
  },
  {
   "cell_type": "code",
   "execution_count": 29,
   "id": "44cffde9-44e1-475e-824e-10f679b53f5f",
   "metadata": {},
   "outputs": [
    {
     "data": {
      "text/plain": [
       "'     vigne$h goud    '"
      ]
     },
     "execution_count": 29,
     "metadata": {},
     "output_type": "execute_result"
    }
   ],
   "source": [
    "str='vigne$h goud'\n",
    "str.center(21)"
   ]
  },
  {
   "cell_type": "code",
   "execution_count": 30,
   "id": "4d0f2ac7-7965-4dd8-b02f-09e31afa668b",
   "metadata": {},
   "outputs": [
    {
     "data": {
      "text/plain": [
       "2"
      ]
     },
     "execution_count": 30,
     "metadata": {},
     "output_type": "execute_result"
    }
   ],
   "source": [
    "str='vigne$h goud'\n",
    "str.count('g')"
   ]
  },
  {
   "cell_type": "code",
   "execution_count": 34,
   "id": "1c7dd3b8-dc1a-4003-927e-1470716f03a1",
   "metadata": {},
   "outputs": [
    {
     "name": "stdout",
     "output_type": "stream",
     "text": [
      "<class 'bytes'>\n",
      "b'vigne$h goud'\n"
     ]
    }
   ],
   "source": [
    "str='vigne$h goud'\n",
    "str1=str.encode()\n",
    "print(type(str1))\n",
    "print(str1)"
   ]
  },
  {
   "cell_type": "code",
   "execution_count": 43,
   "id": "82128b65-f19d-4dcb-9449-d2fb8052cd5c",
   "metadata": {},
   "outputs": [
    {
     "data": {
      "text/plain": [
       "True"
      ]
     },
     "execution_count": 43,
     "metadata": {},
     "output_type": "execute_result"
    }
   ],
   "source": [
    "str='vigne$h goud'\n",
    "str.endswith('d')"
   ]
  },
  {
   "cell_type": "code",
   "execution_count": 60,
   "id": "2f75b617-925b-4e4d-bae5-ed290e94ea3b",
   "metadata": {},
   "outputs": [
    {
     "data": {
      "text/plain": [
       "'vigne$h   goud'"
      ]
     },
     "execution_count": 60,
     "metadata": {},
     "output_type": "execute_result"
    }
   ],
   "source": [
    "str='vigne$h\\tgoud'\n",
    "str.expandtabs(10) # \\t for tabs and expandtabs for spacing"
   ]
  },
  {
   "cell_type": "code",
   "execution_count": 62,
   "id": "e6eadf63-2b4e-4bb0-ba69-2ea0489ef9c8",
   "metadata": {},
   "outputs": [
    {
     "data": {
      "text/plain": [
       "5"
      ]
     },
     "execution_count": 62,
     "metadata": {},
     "output_type": "execute_result"
    }
   ],
   "source": [
    "str='vigne$h goud'\n",
    "str.find('$')"
   ]
  },
  {
   "cell_type": "code",
   "execution_count": 70,
   "id": "01865f35-a7a9-4328-a151-fb7afd6fcd13",
   "metadata": {},
   "outputs": [
    {
     "name": "stdout",
     "output_type": "stream",
     "text": [
      "nam:vigne$h goud,age20\n"
     ]
    }
   ],
   "source": [
    "str='vigne$h goud'\n",
    "str1='20'\n",
    "fort=format('nam:{},age{}'.format(str,str1))\n",
    "print(fort)"
   ]
  },
  {
   "cell_type": "code",
   "execution_count": 76,
   "id": "7fbacafb-20fb-48fa-a7c9-c12d59284f55",
   "metadata": {},
   "outputs": [
    {
     "data": {
      "text/plain": [
       "False"
      ]
     },
     "execution_count": 76,
     "metadata": {},
     "output_type": "execute_result"
    }
   ],
   "source": [
    "str='vigne$h goud'\n",
    "str.isalnum()"
   ]
  },
  {
   "cell_type": "code",
   "execution_count": 3,
   "id": "26526b6b-3d4c-4394-84f1-cf544008f0c6",
   "metadata": {},
   "outputs": [
    {
     "data": {
      "text/plain": [
       "True"
      ]
     },
     "execution_count": 3,
     "metadata": {},
     "output_type": "execute_result"
    }
   ],
   "source": [
    "str='hello'\n",
    "str.isalpha()"
   ]
  },
  {
   "cell_type": "code",
   "execution_count": 81,
   "id": "43ba0245-5d83-487f-af77-9e0331625884",
   "metadata": {},
   "outputs": [
    {
     "data": {
      "text/plain": [
       "True"
      ]
     },
     "execution_count": 81,
     "metadata": {},
     "output_type": "execute_result"
    }
   ],
   "source": [
    "str='vignesh goud'\n",
    "str.isascii()"
   ]
  },
  {
   "cell_type": "code",
   "execution_count": 82,
   "id": "46af7dc3-e7f4-460c-85a2-fe9c013598dc",
   "metadata": {},
   "outputs": [
    {
     "data": {
      "text/plain": [
       "False"
      ]
     },
     "execution_count": 82,
     "metadata": {},
     "output_type": "execute_result"
    }
   ],
   "source": [
    "str='vignesh goud'\n",
    "str.isdecimal()"
   ]
  },
  {
   "cell_type": "code",
   "execution_count": 86,
   "id": "7a9a7ce3-8029-4da4-a250-a7e397c443c2",
   "metadata": {},
   "outputs": [
    {
     "data": {
      "text/plain": [
       "True"
      ]
     },
     "execution_count": 86,
     "metadata": {},
     "output_type": "execute_result"
    }
   ],
   "source": [
    "str='11'\n",
    "str.isdigit()"
   ]
  },
  {
   "cell_type": "code",
   "execution_count": 90,
   "id": "397586fc-74ef-4789-b3db-228b35561dc6",
   "metadata": {},
   "outputs": [
    {
     "data": {
      "text/plain": [
       "True"
      ]
     },
     "execution_count": 90,
     "metadata": {},
     "output_type": "execute_result"
    }
   ],
   "source": [
    "str='vignesh'\n",
    "str.isidentifier()"
   ]
  },
  {
   "cell_type": "code",
   "execution_count": 91,
   "id": "8f6a3fc9-00a5-4f67-b43f-eb660df4e7bb",
   "metadata": {},
   "outputs": [
    {
     "data": {
      "text/plain": [
       "True"
      ]
     },
     "execution_count": 91,
     "metadata": {},
     "output_type": "execute_result"
    }
   ],
   "source": [
    "str='vignesh'\n",
    "str.islower()"
   ]
  },
  {
   "cell_type": "code",
   "execution_count": 93,
   "id": "d99afa31-1346-4e87-8030-4f5170b1aa4c",
   "metadata": {},
   "outputs": [
    {
     "data": {
      "text/plain": [
       "False"
      ]
     },
     "execution_count": 93,
     "metadata": {},
     "output_type": "execute_result"
    }
   ],
   "source": [
    "str='vignesh12'\n",
    "str.isnumeric()"
   ]
  },
  {
   "cell_type": "code",
   "execution_count": 94,
   "id": "ac336b61-d688-4dbf-a5e0-e29b7e9cf3c0",
   "metadata": {},
   "outputs": [
    {
     "data": {
      "text/plain": [
       "True"
      ]
     },
     "execution_count": 94,
     "metadata": {},
     "output_type": "execute_result"
    }
   ],
   "source": [
    "str='vignesh12'\n",
    "str.isprintable()"
   ]
  },
  {
   "cell_type": "code",
   "execution_count": 98,
   "id": "94fc8d2b-8b8f-4397-905a-800950550958",
   "metadata": {},
   "outputs": [
    {
     "data": {
      "text/plain": [
       "True"
      ]
     },
     "execution_count": 98,
     "metadata": {},
     "output_type": "execute_result"
    }
   ],
   "source": [
    "str=' '\n",
    "str.isspace()"
   ]
  },
  {
   "cell_type": "code",
   "execution_count": 100,
   "id": "0a79c24c-b33d-407a-ba8a-2909338a476d",
   "metadata": {},
   "outputs": [
    {
     "data": {
      "text/plain": [
       "True"
      ]
     },
     "execution_count": 100,
     "metadata": {},
     "output_type": "execute_result"
    }
   ],
   "source": [
    "str='Vignesh12'\n",
    "str.istitle()"
   ]
  },
  {
   "cell_type": "code",
   "execution_count": 102,
   "id": "a0c511c3-a51c-4a1c-a3a4-8d38b7b97cf0",
   "metadata": {},
   "outputs": [
    {
     "data": {
      "text/plain": [
       "True"
      ]
     },
     "execution_count": 102,
     "metadata": {},
     "output_type": "execute_result"
    }
   ],
   "source": [
    "str='VIGNESH12'\n",
    "str.isupper()"
   ]
  },
  {
   "cell_type": "code",
   "execution_count": 125,
   "id": "addd00b5-58f3-45b8-b398-9ee05a48c183",
   "metadata": {},
   "outputs": [
    {
     "data": {
      "text/plain": [
       "'gVIGNESHo'"
      ]
     },
     "execution_count": 125,
     "metadata": {},
     "output_type": "execute_result"
    }
   ],
   "source": [
    "str='VIGNESH'\n",
    "str.join('go')"
   ]
  },
  {
   "cell_type": "code",
   "execution_count": 130,
   "id": "ede12151-6dd5-4c5a-8c9e-2fd15297634d",
   "metadata": {},
   "outputs": [
    {
     "data": {
      "text/plain": [
       "'VIGNESH        '"
      ]
     },
     "execution_count": 130,
     "metadata": {},
     "output_type": "execute_result"
    }
   ],
   "source": [
    "str='VIGNESH'\n",
    "str.ljust(15) "
   ]
  },
  {
   "cell_type": "code",
   "execution_count": 140,
   "id": "70982e16-7dc6-4cbb-82c9-03cc36ec8d67",
   "metadata": {},
   "outputs": [
    {
     "data": {
      "text/plain": [
       "'VIGNESH'"
      ]
     },
     "execution_count": 140,
     "metadata": {},
     "output_type": "execute_result"
    }
   ],
   "source": [
    "str='    VIGNESH'\n",
    "str.lstrip() "
   ]
  },
  {
   "cell_type": "code",
   "execution_count": 173,
   "id": "6bb93b8c-ed5f-4874-8628-854168bc7103",
   "metadata": {},
   "outputs": [
    {
     "data": {
      "text/plain": [
       "('VIGNES', 'H', ' == goud')"
      ]
     },
     "execution_count": 173,
     "metadata": {},
     "output_type": "execute_result"
    }
   ],
   "source": [
    "str='VIGNESH == goud'\n",
    "str1=str.partition('H')\n",
    "str1"
   ]
  },
  {
   "cell_type": "code",
   "execution_count": 175,
   "id": "ce27c92c-88c5-4d21-a1d0-d725c393e20b",
   "metadata": {},
   "outputs": [
    {
     "data": {
      "text/plain": [
       "'IGNESH'"
      ]
     },
     "execution_count": 175,
     "metadata": {},
     "output_type": "execute_result"
    }
   ],
   "source": [
    "str='VIGNESH'\n",
    "str.removeprefix('V')"
   ]
  },
  {
   "cell_type": "code",
   "execution_count": 176,
   "id": "2ab0427d-c788-4d4d-9690-bddf2d3d5173",
   "metadata": {},
   "outputs": [
    {
     "data": {
      "text/plain": [
       "'VIGNES'"
      ]
     },
     "execution_count": 176,
     "metadata": {},
     "output_type": "execute_result"
    }
   ],
   "source": [
    "str='VIGNESH'\n",
    "str.removesuffix('H')"
   ]
  },
  {
   "cell_type": "code",
   "execution_count": 180,
   "id": "f40b6832-f76b-45e8-ab62-64cb35198373",
   "metadata": {},
   "outputs": [
    {
     "data": {
      "text/plain": [
       "'goud'"
      ]
     },
     "execution_count": 180,
     "metadata": {},
     "output_type": "execute_result"
    }
   ],
   "source": [
    "str='VIGNESH'\n",
    "str.replace('VIGNESH','goud')"
   ]
  },
  {
   "cell_type": "code",
   "execution_count": 4,
   "id": "14ce10e6-b549-49d7-8e75-ca5982848a19",
   "metadata": {},
   "outputs": [
    {
     "data": {
      "text/plain": [
       "2"
      ]
     },
     "execution_count": 4,
     "metadata": {},
     "output_type": "execute_result"
    }
   ],
   "source": [
    "str='VIGNESH'\n",
    "str.rfind('G')"
   ]
  },
  {
   "cell_type": "code",
   "execution_count": 183,
   "id": "d5cbfc0e-a6bb-4118-8a65-c70e7e49ab01",
   "metadata": {},
   "outputs": [
    {
     "data": {
      "text/plain": [
       "2"
      ]
     },
     "execution_count": 183,
     "metadata": {},
     "output_type": "execute_result"
    }
   ],
   "source": [
    "str='VIGNESH'\n",
    "str.rindex('G')"
   ]
  },
  {
   "cell_type": "code",
   "execution_count": 192,
   "id": "671e027d-7abb-43a6-bd16-2e734a2a89a1",
   "metadata": {},
   "outputs": [
    {
     "data": {
      "text/plain": [
       "'        VIGNESH'"
      ]
     },
     "execution_count": 192,
     "metadata": {},
     "output_type": "execute_result"
    }
   ],
   "source": [
    "str='VIGNESH'\n",
    "str.rjust(15)"
   ]
  },
  {
   "cell_type": "code",
   "execution_count": 196,
   "id": "fbeb7dc2-5184-4385-8074-12b5158adb93",
   "metadata": {},
   "outputs": [
    {
     "data": {
      "text/plain": [
       "('VIGN', '==', 'ESH')"
      ]
     },
     "execution_count": 196,
     "metadata": {},
     "output_type": "execute_result"
    }
   ],
   "source": [
    "str='VIGN==ESH'\n",
    "str.rpartition('==')"
   ]
  },
  {
   "cell_type": "code",
   "execution_count": 199,
   "id": "c110aa6e-6605-4a82-9f7f-9e7b70a93aad",
   "metadata": {},
   "outputs": [
    {
     "data": {
      "text/plain": [
       "['VIGNESH', 'GOUD', '123']"
      ]
     },
     "execution_count": 199,
     "metadata": {},
     "output_type": "execute_result"
    }
   ],
   "source": [
    "str='VIGNESH GOUD 123'\n",
    "str.rsplit()"
   ]
  },
  {
   "cell_type": "code",
   "execution_count": 219,
   "id": "1d34ff3e-953f-4563-987b-bc01456ba6f7",
   "metadata": {},
   "outputs": [
    {
     "data": {
      "text/plain": [
       "'VIGNESH GOUD 12'"
      ]
     },
     "execution_count": 219,
     "metadata": {},
     "output_type": "execute_result"
    }
   ],
   "source": [
    "str='VIGNESH GOUD 123'\n",
    "str.rstrip('3')"
   ]
  },
  {
   "cell_type": "code",
   "execution_count": 201,
   "id": "bc8d71b5-669a-4d08-9a1c-39735494002a",
   "metadata": {},
   "outputs": [
    {
     "data": {
      "text/plain": [
       "['VIGNESH', 'GOUD', '123']"
      ]
     },
     "execution_count": 201,
     "metadata": {},
     "output_type": "execute_result"
    }
   ],
   "source": [
    "str='VIGNESH GOUD 123'\n",
    "str.split()"
   ]
  },
  {
   "cell_type": "code",
   "execution_count": 209,
   "id": "dbeb506f-5510-4c3e-83bd-d124bb9394fe",
   "metadata": {},
   "outputs": [
    {
     "data": {
      "text/plain": [
       "['VIGNESH GOUD 123']"
      ]
     },
     "execution_count": 209,
     "metadata": {},
     "output_type": "execute_result"
    }
   ],
   "source": [
    "str='VIGNESH GOUD 123'\n",
    "str.splitlines()"
   ]
  },
  {
   "cell_type": "code",
   "execution_count": 211,
   "id": "1bc90dbc-0f7e-4cbd-bd36-9792b9463620",
   "metadata": {},
   "outputs": [
    {
     "data": {
      "text/plain": [
       "True"
      ]
     },
     "execution_count": 211,
     "metadata": {},
     "output_type": "execute_result"
    }
   ],
   "source": [
    "str='VIGNESH GOUD 123'\n",
    "str.startswith('V')"
   ]
  },
  {
   "cell_type": "code",
   "execution_count": 213,
   "id": "3914357f-685d-4786-af5d-1dba23574c5e",
   "metadata": {},
   "outputs": [
    {
     "data": {
      "text/plain": [
       "'IGNESH GOUD 123'"
      ]
     },
     "execution_count": 213,
     "metadata": {},
     "output_type": "execute_result"
    }
   ],
   "source": [
    "str='VIGNESH GOUD 123'\n",
    "str.strip('V')"
   ]
  },
  {
   "cell_type": "code",
   "execution_count": 220,
   "id": "d02be809-53d0-4fbf-baeb-e0dc44c702d8",
   "metadata": {},
   "outputs": [
    {
     "data": {
      "text/plain": [
       "'vignesh goud 123'"
      ]
     },
     "execution_count": 220,
     "metadata": {},
     "output_type": "execute_result"
    }
   ],
   "source": [
    "str='VIGNESH GOUD 123'\n",
    "str.swapcase()"
   ]
  },
  {
   "cell_type": "code",
   "execution_count": 221,
   "id": "8e77bbe6-05d2-4b97-a17a-e0a01b561c23",
   "metadata": {},
   "outputs": [
    {
     "data": {
      "text/plain": [
       "'Vignesh Goud 123'"
      ]
     },
     "execution_count": 221,
     "metadata": {},
     "output_type": "execute_result"
    }
   ],
   "source": [
    "str='VIGNESH GOUD 123'\n",
    "str.title()"
   ]
  },
  {
   "cell_type": "code",
   "execution_count": 240,
   "id": "dc056462-b1b1-4508-985a-c5ca7ade1c9b",
   "metadata": {},
   "outputs": [
    {
     "data": {
      "text/plain": [
       "'0000VIGNESH GOUD 123'"
      ]
     },
     "execution_count": 240,
     "metadata": {},
     "output_type": "execute_result"
    }
   ],
   "source": [
    "str='VIGNESH GOUD 123'\n",
    "str.zfill(20)"
   ]
  },
  {
   "cell_type": "code",
   "execution_count": null,
   "id": "e8cabeaa-00f7-4b40-92ac-832c62be5e1e",
   "metadata": {},
   "outputs": [],
   "source": []
  }
 ],
 "metadata": {
  "kernelspec": {
   "display_name": "Python 3 (ipykernel)",
   "language": "python",
   "name": "python3"
  },
  "language_info": {
   "codemirror_mode": {
    "name": "ipython",
    "version": 3
   },
   "file_extension": ".py",
   "mimetype": "text/x-python",
   "name": "python",
   "nbconvert_exporter": "python",
   "pygments_lexer": "ipython3",
   "version": "3.11.7"
  }
 },
 "nbformat": 4,
 "nbformat_minor": 5
}
